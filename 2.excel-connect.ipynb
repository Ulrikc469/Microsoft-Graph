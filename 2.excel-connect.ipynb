# excel-connect.ipynb – Basic setup
# Zorg dat je pandas en openpyxl geïnstalleerd hebt

import pandas as pd

# Simuleer een Excel-import (bijv. e-mailgegevens uit Graph API)
data = [
    {"naam": "Alice", "email": "alice@tenant.onmicrosoft.com"},
    {"naam": "Bob", "email": "bob@tenant.onmicrosoft.com"},
]

df = pd.DataFrame(data)

# Exporteer naar Excel-bestand
df.to_excel("users_export.xlsx", index=False)

print("✅ Excelbestand aangemaakt: users_export.xlsx")
